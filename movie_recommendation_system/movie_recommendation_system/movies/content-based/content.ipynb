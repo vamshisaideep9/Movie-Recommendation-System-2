{
 "cells": [
  {
   "cell_type": "code",
   "execution_count": 1,
   "metadata": {},
   "outputs": [],
   "source": [
    "import pandas as pd\n",
    "import numpy as np\n",
    "\n",
    "final_data = pd.read_csv(\"c:/Users/vamsh/OneDrive/Desktop/Move Rec System-2/Movie-Recommendation-System-2/movie_recommendation_system/movie_recommendation_system/movies/final data/final_data.csv\")"
   ]
  },
  {
   "cell_type": "code",
   "execution_count": 2,
   "metadata": {},
   "outputs": [],
   "source": [
    "vectorized_features = final_data.drop(columns=['movieId', 'title', 'rating', 'year'])"
   ]
  },
  {
   "cell_type": "code",
   "execution_count": 3,
   "metadata": {},
   "outputs": [
    {
     "name": "stdout",
     "output_type": "stream",
     "text": [
      "[[1.         0.61237244 0.23570226 ... 0.40824829 0.         0.        ]\n",
      " [0.61237244 1.         0.         ... 0.25       0.         0.        ]\n",
      " [0.23570226 0.         1.         ... 0.28867513 0.         0.33333333]\n",
      " ...\n",
      " [0.40824829 0.25       0.28867513 ... 1.         0.25       0.        ]\n",
      " [0.         0.         0.         ... 0.25       1.         0.28867513]\n",
      " [0.         0.         0.33333333 ... 0.         0.28867513 1.        ]]\n"
     ]
    }
   ],
   "source": [
    "from sklearn.metrics.pairwise import cosine_similarity\n",
    "\n",
    "cosine_sim = cosine_similarity(vectorized_features, vectorized_features)\n",
    "\n",
    "print(cosine_sim)"
   ]
  },
  {
   "cell_type": "code",
   "execution_count": null,
   "metadata": {},
   "outputs": [],
   "source": [
    "def get_movie_recommendations(movie_title, cosine_sim=cosine_sim):\n",
    "    idx = final_data[final_data['title']==movie_title].index[0]\n",
    "    sim_scores = list(enumerate(cosine_sim[idx]))\n",
    "    sim_scores = sorted(sim_scores, key=lambda x:x[1], reverse=True)\n",
    "    sim_scores = sim_scores[1:11]\n",
    "    movie_indices = [i[0] for i in sim_scores]\n",
    "    return final_data['title'].iloc[movie_indices]\n",
    "\n",
    "\n",
    "recommended_movies = get_movie_recommendations(\"Toy Story\")\n",
    "print(\"Recommended Movies for 'Toy Story':\")\n",
    "print(recommended_movies)"
   ]
  }
 ],
 "metadata": {
  "kernelspec": {
   "display_name": "Python 3",
   "language": "python",
   "name": "python3"
  },
  "language_info": {
   "codemirror_mode": {
    "name": "ipython",
    "version": 3
   },
   "file_extension": ".py",
   "mimetype": "text/x-python",
   "name": "python",
   "nbconvert_exporter": "python",
   "pygments_lexer": "ipython3",
   "version": "3.12.6"
  }
 },
 "nbformat": 4,
 "nbformat_minor": 2
}
